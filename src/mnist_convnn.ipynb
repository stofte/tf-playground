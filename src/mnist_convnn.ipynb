{
 "cells": [
  {
   "cell_type": "markdown",
   "metadata": {},
   "source": [
    "## MNIST convolutional neural network\n",
    "\n",
    "Adapted from [Tensorflows](https://www.tensorflow.org/tutorials/layers) own tutorial on CNNs."
   ]
  },
  {
   "cell_type": "code",
   "execution_count": 1,
   "metadata": {},
   "outputs": [],
   "source": [
    "import os, math, time\n",
    "import numpy as np\n",
    "import tensorflow as tf\n",
    "import matplotlib.pyplot as plt\n",
    "import ipywidgets as widgets\n",
    "from IPython.display import display\n",
    "from helpers import read_mnist, tf_show_graph"
   ]
  },
  {
   "cell_type": "code",
   "execution_count": 2,
   "metadata": {},
   "outputs": [],
   "source": [
    "start_time = time.time()\n",
    "mnist_path = 'C:/src/tf-playground/mnist'\n",
    "tf_logs = 'C:/src/tf-playground/logs'\n",
    "\n",
    "TRAIN_EPOCHS = 24\n",
    "BATCH_SIZE = 3000 # train batch size\n",
    "TEST_BATCHES = 2 # how many batches to split test data in\n",
    "REPORT_INTERVAL = 200 # adjust by number of epochs/hw\n",
    "PLOT_SIZE = (16.9, 5.915)"
   ]
  },
  {
   "cell_type": "code",
   "execution_count": 3,
   "metadata": {},
   "outputs": [],
   "source": [
    "with tf.name_scope('X'):\n",
    "    X = tf.placeholder(tf.float32, [None, 784])\n",
    "with tf.name_scope('Y_'):\n",
    "    Y_ = tf.placeholder(tf.float32, [None, 10])\n",
    "with tf.name_scope('reshape'):\n",
    "    X_image = tf.reshape(X, [-1, 28, 28, 1])\n",
    "with tf.name_scope('conv1'):\n",
    "    W_conv1 = tf.Variable(tf.truncated_normal([5, 5, 1, 32], stddev=0.1))\n",
    "    b_conv1 = tf.Variable(tf.constant(0.1, shape=[32]))\n",
    "    XW_conv1 = tf.nn.conv2d(X_image, W_conv1, strides=[1, 1, 1, 1], padding='SAME')\n",
    "    h_conv1 = tf.nn.relu(XW_conv1 + b_conv1)\n",
    "with tf.name_scope('pool1'):\n",
    "    h_pool1 = tf.nn.max_pool(h_conv1, ksize=[1, 2, 2, 1], strides=[1, 2, 2, 1], padding='SAME')\n",
    "with tf.name_scope('conv2'):\n",
    "    W_conv2 = tf.Variable(tf.truncated_normal([5, 5, 32, 64], stddev=0.1))\n",
    "    b_conv2 = tf.Variable(tf.constant(0.1, shape=[64]))\n",
    "    hW_conv2 = tf.nn.conv2d(h_pool1, W_conv2, strides=[1, 1, 1, 1], padding='SAME')\n",
    "    h_conv2 = tf.nn.relu(hW_conv2 + b_conv2)\n",
    "with tf.name_scope('pool2'):\n",
    "    h_pool2 = tf.nn.max_pool(h_conv2, ksize=[1, 2, 2, 1], strides=[1, 2, 2, 1], padding='SAME')\n",
    "with tf.name_scope('fc1'):\n",
    "    W_fc1 = tf.Variable(tf.truncated_normal([7 * 7 * 64, 1024], stddev=0.1))\n",
    "    b_fc1 = tf.Variable(tf.constant(0.1, shape=[1024]))\n",
    "    h_pool2_flat = tf.reshape(h_pool2, [-1, 7 * 7 * 64])\n",
    "    h_fc1 = tf.nn.relu(tf.matmul(h_pool2_flat, W_fc1) + b_fc1)\n",
    "with tf.name_scope('dropout'):\n",
    "    keep_prob = tf.placeholder(tf.float32)\n",
    "    h_fc1_drop = tf.nn.dropout(h_fc1, keep_prob)\n",
    "with tf.name_scope('fc2'):\n",
    "    W_fc2 = tf.Variable(tf.truncated_normal([1024, 10], stddev=0.1))\n",
    "    b_fc2 = tf.Variable(tf.constant(0.1, shape=[10]))\n",
    "    y_conv = tf.matmul(h_fc1_drop, W_fc2) + b_fc2"
   ]
  },
  {
   "cell_type": "code",
   "execution_count": 4,
   "metadata": {},
   "outputs": [],
   "source": [
    "with tf.name_scope('loss'):\n",
    "    cross_entropy = tf.reduce_mean(tf.nn.softmax_cross_entropy_with_logits_v2(labels=Y_, logits=y_conv))\n",
    "with tf.name_scope('train'):\n",
    "    train_step = tf.train.AdamOptimizer(1e-4).minimize(cross_entropy)\n",
    "with tf.name_scope('correct_prediction'):\n",
    "    correct_prediction = tf.equal(tf.argmax(y_conv, 1), tf.argmax(Y_, 1))\n",
    "with tf.name_scope('accuracy'):\n",
    "    accuracy = tf.reduce_mean(tf.cast(correct_prediction, tf.float32))"
   ]
  },
  {
   "cell_type": "code",
   "execution_count": 5,
   "metadata": {
    "scrolled": true
   },
   "outputs": [
    {
     "name": "stdout",
     "output_type": "stream",
     "text": [
      "Extracting C:/src/tf-playground/mnist\\train-images-idx3-ubyte.gz\n",
      "Extracting C:/src/tf-playground/mnist\\train-labels-idx1-ubyte.gz\n",
      "Extracting C:/src/tf-playground/mnist\\t10k-images-idx3-ubyte.gz\n",
      "Extracting C:/src/tf-playground/mnist\\t10k-labels-idx1-ubyte.gz\n",
      "Training images: 55000\n",
      "Test images: 10000\n"
     ]
    }
   ],
   "source": [
    "mnist = read_mnist(mnist_path, one_hot=True)\n",
    "print('Training images: {}'.format(mnist.train.num_examples))\n",
    "print('Test images: {}'.format(mnist.test.num_examples))"
   ]
  },
  {
   "cell_type": "code",
   "execution_count": 6,
   "metadata": {
    "scrolled": false
   },
   "outputs": [
    {
     "data": {
      "application/vnd.jupyter.widget-view+json": {
       "model_id": "4cc0b3b7f2c74b61bdc64562dadef641",
       "version_major": 2,
       "version_minor": 0
      },
      "text/html": [
       "<p>Failed to display Jupyter Widget of type <code>Label</code>.</p>\n",
       "<p>\n",
       "  If you're reading this message in the Jupyter Notebook or JupyterLab Notebook, it may mean\n",
       "  that the widgets JavaScript is still loading. If this message persists, it\n",
       "  likely means that the widgets JavaScript library is either not installed or\n",
       "  not enabled. See the <a href=\"https://ipywidgets.readthedocs.io/en/stable/user_install.html\">Jupyter\n",
       "  Widgets Documentation</a> for setup instructions.\n",
       "</p>\n",
       "<p>\n",
       "  If you're reading this message in another frontend (for example, a static\n",
       "  rendering on GitHub or <a href=\"https://nbviewer.jupyter.org/\">NBViewer</a>),\n",
       "  it may mean that your frontend doesn't currently support widgets.\n",
       "</p>\n"
      ],
      "text/plain": [
       "Label(value='...')"
      ]
     },
     "metadata": {},
     "output_type": "display_data"
    },
    {
     "data": {
      "image/png": "[encoded data removed]",
      "text/plain": [
       "<matplotlib.figure.Figure at 0x27617923d30>"
      ]
     },
     "metadata": {},
     "output_type": "display_data"
    }
   ],
   "source": [
    "train_writer = tf.summary.FileWriter(tf_logs)\n",
    "train_writer.add_graph(tf.get_default_graph())\n",
    "\n",
    "loop_count = int(mnist.train.num_examples * TRAIN_EPOCHS / BATCH_SIZE)\n",
    "report_mod = math.ceil(loop_count / REPORT_INTERVAL)\n",
    "\n",
    "out_label = widgets.Label(value='...')\n",
    "display(out_label)\n",
    "\n",
    "sess = tf.Session()\n",
    "sess.run(tf.global_variables_initializer())\n",
    "accuracies = []\n",
    "for i in range(1, loop_count + 1):\n",
    "    batch = mnist.train.next_batch(BATCH_SIZE)\n",
    "    _, train_accuracy = sess.run([train_step, accuracy], feed_dict={X: batch[0], Y_: batch[1], keep_prob: 0.9})\n",
    "    accuracies.append(train_accuracy)\n",
    "    if i % report_mod == 0:\n",
    "        progg = i / loop_count * 100\n",
    "        ts = int(time.time() - start_time)\n",
    "        ec = mnist.train.epochs_completed\n",
    "        out_str = 'Data: {:.2f}%, accuracy: {:.2f}%, time: {}s, epochs completed: {}'\n",
    "        out_label.value = out_str.format(progg, train_accuracy * 100, ts, ec)\n",
    "\n",
    "ts = int(time.time() - start_time)\n",
    "out_label.value = out_str.format(100, train_accuracy * 100, ts, mnist.train.epochs_completed)\n",
    "plt.figure(figsize=PLOT_SIZE)\n",
    "plt.plot(accuracies)\n",
    "plt.show()"
   ]
  },
  {
   "cell_type": "code",
   "execution_count": 7,
   "metadata": {},
   "outputs": [
    {
     "name": "stdout",
     "output_type": "stream",
     "text": [
      "Test accuracy: 97.56%, epochs completed: 0\n"
     ]
    }
   ],
   "source": [
    "test_batch_size = int(mnist.test.num_examples / TEST_BATCHES)\n",
    "test_accs = []\n",
    "for i in range(0, TEST_BATCHES):\n",
    "    test_batch = mnist.test.next_batch(test_batch_size)\n",
    "    test_acc = sess.run(accuracy, feed_dict={X: test_batch[0], Y_: test_batch[1], keep_prob: 1.0})\n",
    "    test_accs.append(test_acc)\n",
    "\n",
    "print('Test accuracy: {:2.2f}%, epochs completed: {}'.format(np.mean(test_accs) * 100, mnist.test.epochs_completed))"
   ]
  }
 ],
 "metadata": {
  "kernelspec": {
   "display_name": "Python 3",
   "language": "python",
   "name": "python3"
  },
  "language_info": {
   "codemirror_mode": {
    "name": "ipython",
    "version": 3
   },
   "file_extension": ".py",
   "mimetype": "text/x-python",
   "name": "python",
   "nbconvert_exporter": "python",
   "pygments_lexer": "ipython3",
   "version": "3.6.4"
  }
 },
 "nbformat": 4,
 "nbformat_minor": 2
}
