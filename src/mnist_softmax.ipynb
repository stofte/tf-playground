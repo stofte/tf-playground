{
 "cells": [
  {
   "cell_type": "markdown",
   "metadata": {},
   "source": [
    "# MNIST softmax regression\n",
    "\n",
    "This notebook shows the basic steps in developing an equivalent \"hello world\" for machinelearning. The purpose here is to develop a model that will recognize handwritten digits (ie, 0 through 9). It's based on the regular Tensorflow tutorial [\"MNIST For ML Beginners\"](https://www.tensorflow.org/get_started/mnist/beginners)."
   ]
  },
  {
   "cell_type": "code",
   "execution_count": 1,
   "metadata": {},
   "outputs": [],
   "source": [
    "import os\n",
    "import numpy as np\n",
    "import tensorflow as tf\n",
    "from IPython.display import display, Image\n",
    "from plotting import show_images\n",
    "# also load the mnist input_data helper\n",
    "from tensorflow.examples.tutorials.mnist import input_data"
   ]
  },
  {
   "cell_type": "markdown",
   "metadata": {},
   "source": [
    "Some settings\n",
    " - ipython [magic](http://ipython.readthedocs.io/en/stable/interactive/magics.html) to render matplotlib inline\n",
    " - numpy will print the full array when showing matrices, instead of ellided ones\n",
    " - `mnist_path` defines the path where the MNIST dataset can be found (as tar.gz)\n",
    " - supress TensorFlow hardware warnings (SSE4 support, etc)"
   ]
  },
  {
   "cell_type": "code",
   "execution_count": 2,
   "metadata": {},
   "outputs": [],
   "source": [
    "%matplotlib inline\n",
    "np.set_printoptions(threshold=np.nan)\n",
    "mnist_path = '/mnt/c/src/tf-playground/mnist'\n",
    "os.environ['TF_CPP_MIN_LOG_LEVEL'] = '3'"
   ]
  },
  {
   "cell_type": "markdown",
   "metadata": {},
   "source": [
    "Read data using mnist helper from tensorflow convinient tutorial namespace. "
   ]
  },
  {
   "cell_type": "code",
   "execution_count": 3,
   "metadata": {},
   "outputs": [
    {
     "name": "stdout",
     "output_type": "stream",
     "text": [
      "Extracting /mnt/c/src/tf-playground/mnist/train-images-idx3-ubyte.gz\n",
      "Extracting /mnt/c/src/tf-playground/mnist/train-labels-idx1-ubyte.gz\n",
      "Extracting /mnt/c/src/tf-playground/mnist/t10k-images-idx3-ubyte.gz\n",
      "Extracting /mnt/c/src/tf-playground/mnist/t10k-labels-idx1-ubyte.gz\n"
     ]
    }
   ],
   "source": [
    "mnist = input_data.read_data_sets(mnist_path, one_hot=True)"
   ]
  },
  {
   "cell_type": "markdown",
   "metadata": {},
   "source": [
    "Defines the placeholders and variables required\n",
    "\n",
    "- `X` is a placeholder for the actual image data. By using `None` as the height dimension, Tensorflow is told that the height may variable (so `X` can be sized to include any number of images, in a batching style). Note that each row is a complete image, simply flattened out (27 * 27 = 784)\n",
    "- `W` and `b` defines the weights and biases used by the model itself\n",
    "- `Y` and `Y_` refers to our guesses and labels (correct guess value) respectively"
   ]
  },
  {
   "cell_type": "code",
   "execution_count": 4,
   "metadata": {},
   "outputs": [],
   "source": [
    "X = tf.placeholder(tf.float32, [None, 784], 'X')\n",
    "W = tf.Variable(tf.zeros([784, 10]), 'W')\n",
    "b = tf.Variable(tf.zeros([10]), 'b')\n",
    "Y = tf.nn.softmax(tf.matmul(X, W) + b)\n",
    "Y_ = tf.placeholder(tf.float32, [None, 10], 'Y_')"
   ]
  },
  {
   "cell_type": "markdown",
   "metadata": {},
   "source": [
    "- `cross_entropy` is a tensor that gives a measurement of how well we guessed correctly\n",
    "- `train_step` is a operation that Tensorflow defines which seeks to mimize the `cross_entropy` tensor"
   ]
  },
  {
   "cell_type": "code",
   "execution_count": 5,
   "metadata": {
    "scrolled": false
   },
   "outputs": [],
   "source": [
    "cross_entropy = tf.reduce_mean(tf.nn.softmax_cross_entropy_with_logits(labels=Y_, logits=Y))\n",
    "train_step = tf.train.GradientDescentOptimizer(0.5).minimize(cross_entropy)\n",
    "sess = tf.InteractiveSession()\n",
    "init = tf.global_variables_initializer().run()"
   ]
  },
  {
   "cell_type": "markdown",
   "metadata": {},
   "source": [
    "Training loop"
   ]
  },
  {
   "cell_type": "code",
   "execution_count": 6,
   "metadata": {},
   "outputs": [
    {
     "name": "stdout",
     "output_type": "stream",
     "text": [
      "2.30258536339\n",
      "1.8039072752\n",
      "1.75308167934\n",
      "1.68076264858\n",
      "1.66385257244\n",
      "1.64079403877\n",
      "1.6497695446\n",
      "1.67100298405\n",
      "1.61274719238\n",
      "1.65379750729\n",
      "1.63184356689\n",
      "1.60497570038\n",
      "1.61772584915\n",
      "1.59816706181\n",
      "1.6063284874\n",
      "1.5867215395\n",
      "1.56451785564\n",
      "1.59028792381\n",
      "1.609151721\n",
      "1.56690478325\n"
     ]
    }
   ],
   "source": [
    "for _ in range(1000):\n",
    "    batch_xs, batch_ys = mnist.train.next_batch(100)\n",
    "    step_v, cross_entropy_v = sess.run([train_step, cross_entropy], feed_dict={X: batch_xs, Y_: batch_ys})\n",
    "    if (_ % 50 == 0):\n",
    "        print('{0}'.format(cross_entropy_v))"
   ]
  },
  {
   "cell_type": "markdown",
   "metadata": {},
   "source": [
    "Now the model has been trained, and we verify the accuracy of the resultant weights and biases against the test set."
   ]
  },
  {
   "cell_type": "code",
   "execution_count": 7,
   "metadata": {
    "scrolled": true
   },
   "outputs": [
    {
     "data": {
      "text/plain": [
       "0.90679997"
      ]
     },
     "execution_count": 7,
     "metadata": {},
     "output_type": "execute_result"
    }
   ],
   "source": [
    "correct_prediction = tf.equal(tf.argmax(Y, 1), tf.argmax(Y_, 1))\n",
    "accuracy = tf.reduce_mean(tf.cast(correct_prediction, tf.float32))\n",
    "sess.run(accuracy, feed_dict={X: mnist.test.images, Y_: mnist.test.labels})"
   ]
  },
  {
   "cell_type": "markdown",
   "metadata": {},
   "source": [
    "Evaluate the tensorflow variable to obtain a numpy matrix of actual weights for each class. To visualize the individual class weights, we first split `We` by columns, and then reshape into 28 x 28 individual numpy matrices that we pass to `show_images`."
   ]
  },
  {
   "cell_type": "code",
   "execution_count": 8,
   "metadata": {},
   "outputs": [
    {
     "data": {
      "image/png": "[encoded data removed]",
      "text/plain": [
       "<matplotlib.figure.Figure at 0x7f4989eb2ad0>"
      ]
     },
     "metadata": {},
     "output_type": "display_data"
    }
   ],
   "source": [
    "We = W.eval()\n",
    "Wec = [np.reshape(x, (28, 28)) for x in np.hsplit(We, 10)]\n",
    "colorbar_pos = [0.93, 0.145, 0.02, 0.715]\n",
    "show_images(Wec, titles=['Class: {}'.format(n) for n in range(10)], figwidth=3, cols=2, colorbar=colorbar_pos)"
   ]
  }
 ],
 "metadata": {
  "kernelspec": {
   "display_name": "Python 2",
   "language": "python",
   "name": "python2"
  },
  "language_info": {
   "codemirror_mode": {
    "name": "ipython",
    "version": 2
   },
   "file_extension": ".py",
   "mimetype": "text/x-python",
   "name": "python",
   "nbconvert_exporter": "python",
   "pygments_lexer": "ipython2",
   "version": "2.7.12"
  }
 },
 "nbformat": 4,
 "nbformat_minor": 2
}
