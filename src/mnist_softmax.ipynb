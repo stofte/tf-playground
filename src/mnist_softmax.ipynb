{
 "cells": [
  {
   "cell_type": "markdown",
   "metadata": {},
   "source": [
    "## MNIST softmax regression\n",
    "\n",
    "This notebook is based on the regular Tensorflow tutorial [MNIST For ML Beginners](https://www.tensorflow.org/versions/r1.1/get_started/mnist/beginners)."
   ]
  },
  {
   "cell_type": "code",
   "execution_count": 1,
   "metadata": {},
   "outputs": [
    {
     "name": "stdout",
     "output_type": "stream",
     "text": [
      "WARNING:tensorflow:From C:\\Users\\svto\\AppData\\Local\\Continuum\\anaconda3\\lib\\site-packages\\tensorflow\\contrib\\learn\\python\\learn\\datasets\\base.py:198: retry (from tensorflow.contrib.learn.python.learn.datasets.base) is deprecated and will be removed in a future version.\n",
      "Instructions for updating:\n",
      "Use the retry module or similar alternatives.\n",
      "tf_logs: C:\\src\\tf-playground\\logs\\mnist_softmax_20180418145529\n",
      "save_path: C:\\src\\tf-playground\\models\\mnist_softmax_20180418145529\n"
     ]
    }
   ],
   "source": [
    "import os, math\n",
    "import numpy as np\n",
    "import tensorflow as tf\n",
    "import matplotlib.pyplot as plt\n",
    "from tensorflow.contrib import predictor\n",
    "from helpers import read_mnist, tf_show_graph, output_folder\n",
    "from random import randint\n",
    "\n",
    "# render plots inline\n",
    "%matplotlib inline\n",
    "np.set_printoptions(threshold=np.nan) # dont ellide matrices\n",
    "tf.logging.set_verbosity(tf.logging.WARN)\n",
    "\n",
    "PLOT_SIZE = (16.9, 5.915)\n",
    "mnist_path = 'C:/src/tf-playground/mnist'\n",
    "tf_logs = output_folder(prefix='mnist_softmax_', folderpath=['logs'])\n",
    "save_path = output_folder(prefix='mnist_softmax_', folderpath=['models'])\n",
    "\n",
    "print('tf_logs: {}'.format(tf_logs))\n",
    "print('save_path: {}'.format(save_path))"
   ]
  },
  {
   "cell_type": "markdown",
   "metadata": {},
   "source": [
    "Read data using mnist helper from tensorflow convinient tutorial namespace. "
   ]
  },
  {
   "cell_type": "code",
   "execution_count": 2,
   "metadata": {
    "scrolled": true
   },
   "outputs": [
    {
     "name": "stdout",
     "output_type": "stream",
     "text": [
      "Extracting C:/src/tf-playground/mnist\\train-images-idx3-ubyte.gz\n",
      "Extracting C:/src/tf-playground/mnist\\train-labels-idx1-ubyte.gz\n",
      "Extracting C:/src/tf-playground/mnist\\t10k-images-idx3-ubyte.gz\n",
      "Extracting C:/src/tf-playground/mnist\\t10k-labels-idx1-ubyte.gz\n"
     ]
    }
   ],
   "source": [
    "mnist = read_mnist(mnist_path, one_hot=True)"
   ]
  },
  {
   "cell_type": "markdown",
   "metadata": {},
   "source": [
    "### Model definition\n",
    "\n",
    "Define the placeholders and variables (the model)\n",
    "\n",
    "- `X` is a placeholder for the actual image data. By using `None` as the height dimension, Tensorflow is told that the height may variable (so `X` can be sized to include any number of images, in a batching style). Note that each row is a complete image, simply flattened out (27 * 27 = 784)\n",
    "- `W` and `b` defines the weights and biases used by the model itself\n",
    "- `Y` and `Y_` refers to our guesses and labels (correct guess value) respectively\n",
    "- `cross_entropy` is a tensor that gives a measurement of how well we guessed correctly (aka loss)\n",
    "- `train_step` is a operation that Tensorflow defines which seeks to mimize the `cross_entropy` tensor\n",
    "\n",
    "Note that most of this if required for the training and evaluation phases. For actual predictions in deployment, `X` is the only input and `Y` the only output."
   ]
  },
  {
   "cell_type": "code",
   "execution_count": 3,
   "metadata": {},
   "outputs": [],
   "source": [
    "with tf.name_scope('Image'):\n",
    "    X = tf.placeholder(tf.float32, [None, 784], 'X')\n",
    "with tf.name_scope('Weight'):\n",
    "    W = tf.Variable(tf.zeros([784, 10]), 'W')\n",
    "with tf.name_scope('bias'):\n",
    "    b = tf.Variable(tf.zeros([10]), 'b')\n",
    "\n",
    "Y = tf.nn.softmax(tf.matmul(X, W) + b)\n",
    "Y_ = tf.placeholder(tf.float32, [None, 10], 'Y_')\n",
    "\n",
    "with tf.name_scope('loss'):\n",
    "    cross_entropy = tf.reduce_mean(tf.nn.softmax_cross_entropy_with_logits_v2(labels=Y_, logits=Y))\n",
    "with tf.name_scope('train'):\n",
    "    train_step = tf.train.GradientDescentOptimizer(0.5).minimize(cross_entropy)\n",
    "with tf.name_scope('correct_prediction'):\n",
    "    correct_prediction = tf.equal(tf.argmax(Y, 1), tf.argmax(Y_, 1))\n",
    "with tf.name_scope('accuracy'):\n",
    "    accuracy = tf.reduce_mean(tf.cast(correct_prediction, tf.float32))"
   ]
  },
  {
   "cell_type": "code",
   "execution_count": 4,
   "metadata": {
    "scrolled": false
   },
   "outputs": [],
   "source": [
    "sess = tf.InteractiveSession()\n",
    "init = tf.global_variables_initializer().run()\n",
    "merged = tf.summary.merge_all()\n",
    "writer = tf.summary.FileWriter(tf_logs, sess.graph)"
   ]
  },
  {
   "cell_type": "markdown",
   "metadata": {},
   "source": [
    "Training loop"
   ]
  },
  {
   "cell_type": "code",
   "execution_count": 5,
   "metadata": {},
   "outputs": [
    {
     "name": "stdout",
     "output_type": "stream",
     "text": [
      "Step: 0000, loss: 2.3025851249694824, acc: 0.07000000029802322\n",
      "Step: 0050, loss: 1.8880113363265991, acc: 0.6899999976158142\n",
      "Step: 0100, loss: 1.7336090803146362, acc: 0.7899999618530273\n",
      "Step: 0150, loss: 1.7596380710601807, acc: 0.7699999809265137\n",
      "Step: 0200, loss: 1.6907566785812378, acc: 0.8100000023841858\n",
      "Step: 0250, loss: 1.644513487815857, acc: 0.9099999666213989\n",
      "Step: 0300, loss: 1.6100167036056519, acc: 0.9199999570846558\n",
      "Step: 0350, loss: 1.5870938301086426, acc: 0.9099999666213989\n",
      "Step: 0400, loss: 1.5912470817565918, acc: 0.9199999570846558\n",
      "Step: 0450, loss: 1.6119534969329834, acc: 0.9099999666213989\n",
      "Step: 0500, loss: 1.663843035697937, acc: 0.8199999928474426\n",
      "Step: 0550, loss: 1.598090648651123, acc: 0.9099999666213989\n",
      "Step: 0600, loss: 1.5932505130767822, acc: 0.9199999570846558\n",
      "Step: 0650, loss: 1.5793849229812622, acc: 0.9099999666213989\n",
      "Step: 0700, loss: 1.5771124362945557, acc: 0.9099999666213989\n",
      "Step: 0750, loss: 1.6011121273040771, acc: 0.8899999856948853\n",
      "Step: 0800, loss: 1.6412982940673828, acc: 0.85999995470047\n",
      "Step: 0850, loss: 1.6031371355056763, acc: 0.8899999856948853\n",
      "Step: 0900, loss: 1.5282082557678223, acc: 0.9599999785423279\n",
      "Step: 0950, loss: 1.5725129842758179, acc: 0.9399999976158142\n",
      "Step: 1000, loss: 1.5903300046920776, acc: 0.8899999856948853\n",
      "Step: 1050, loss: 1.549644112586975, acc: 0.949999988079071\n",
      "Step: 1100, loss: 1.614317774772644, acc: 0.85999995470047\n",
      "Step: 1150, loss: 1.5737955570220947, acc: 0.9099999666213989\n",
      "Step: 1200, loss: 1.6224552392959595, acc: 0.8799999952316284\n",
      "Step: 1250, loss: 1.5745528936386108, acc: 0.9199999570846558\n",
      "Step: 1300, loss: 1.5509213209152222, acc: 0.9099999666213989\n",
      "Step: 1350, loss: 1.5746830701828003, acc: 0.9099999666213989\n",
      "Step: 1400, loss: 1.5832798480987549, acc: 0.8799999952316284\n",
      "Step: 1450, loss: 1.5779376029968262, acc: 0.9099999666213989\n",
      "Step: 1500, loss: 1.5508828163146973, acc: 0.949999988079071\n",
      "Step: 1550, loss: 1.5725876092910767, acc: 0.9199999570846558\n",
      "Step: 1600, loss: 1.6004935503005981, acc: 0.8999999761581421\n",
      "Step: 1650, loss: 1.606194257736206, acc: 0.8899999856948853\n",
      "Step: 1700, loss: 1.5654035806655884, acc: 0.9300000071525574\n",
      "Step: 1750, loss: 1.5164399147033691, acc: 0.9599999785423279\n",
      "Step: 1800, loss: 1.5907961130142212, acc: 0.8999999761581421\n",
      "Step: 1850, loss: 1.5746548175811768, acc: 0.8999999761581421\n",
      "Step: 1900, loss: 1.6107279062271118, acc: 0.8799999952316284\n",
      "Step: 1950, loss: 1.5134992599487305, acc: 0.9699999690055847\n"
     ]
    }
   ],
   "source": [
    "for i in range(2000):\n",
    "    batch_xs, batch_ys = mnist.train.next_batch(100, shuffle=True)\n",
    "    step_v, cross_entropy_v, acc_train = sess.run([train_step, cross_entropy, accuracy], feed_dict={X: batch_xs, Y_: batch_ys})\n",
    "    if (i % 50 == 0):\n",
    "        print('Step: {:04d}, loss: {}, acc: {}'.format(i, cross_entropy_v, acc_train))"
   ]
  },
  {
   "cell_type": "markdown",
   "metadata": {},
   "source": [
    "### Testing the trained model\n",
    "\n",
    "Now the model has been trained, and we verify the accuracy of the resultant weights and biases against the test set."
   ]
  },
  {
   "cell_type": "code",
   "execution_count": 6,
   "metadata": {
    "scrolled": true
   },
   "outputs": [
    {
     "name": "stdout",
     "output_type": "stream",
     "text": [
      "Test acc: 0.9148000478744507\n"
     ]
    }
   ],
   "source": [
    "acc_test = sess.run(accuracy, feed_dict={X: mnist.test.images, Y_: mnist.test.labels})\n",
    "print('Test acc: {}'.format(acc_test))"
   ]
  },
  {
   "cell_type": "markdown",
   "metadata": {},
   "source": [
    "### `W` visualization\n",
    "Evaluate the tensorflow variable to obtain a numpy matrix of actual weights for each class. To visualize the individual class weights, we first split `We` by columns, and then reshape into 28 x 28 individual numpy matrices."
   ]
  },
  {
   "cell_type": "code",
   "execution_count": 7,
   "metadata": {},
   "outputs": [
    {
     "data": {
      "image/png": "[encoded data removed]",
      "text/plain": [
       "<matplotlib.figure.Figure at 0x271ce469860>"
      ]
     },
     "metadata": {},
     "output_type": "display_data"
    }
   ],
   "source": [
    "We = W.eval()\n",
    "Wec = [(np.reshape(x, (28, 28))) for x in np.hsplit(We, 10)]\n",
    "titles = ['Class: {}'.format(n) for n in range(10)]\n",
    "vmin = min([m.min() for m in Wec])\n",
    "vmax = max([m.max() for m in Wec])\n",
    "# ensure the mean is 0, otherwise the base/neutral is non-white\n",
    "vminmax = max(abs(vmin), vmax)\n",
    "\n",
    "# create subplots\n",
    "fig, ax = plt.subplots(2, 5, sharex=True, sharey=True, figsize=PLOT_SIZE)\n",
    "for index, (image, title) in enumerate(zip(Wec, titles)):\n",
    "    (row, col) = (math.floor(index / 5), index % 5)\n",
    "    ax[row, col].title.set_text(title)\n",
    "    im = ax[row, col].pcolor(image, cmap='bwr', vmin=-vminmax, vmax=vminmax)\n",
    "    ax[row, col].set(aspect=1)\n",
    "\n",
    "fig.subplots_adjust(right=0.82) # adjust for colorbar\n",
    "cbar_ax = fig.add_axes([0.85, 0.148, 0.01, 0.71])\n",
    "fig.colorbar(im, cax=cbar_ax, cmap='bwr')\n",
    "plt.show()\n",
    "\n",
    "# dump graph itself\n",
    "# tf_show_graph(tf)"
   ]
  },
  {
   "cell_type": "markdown",
   "metadata": {},
   "source": [
    "### Deployment proof of concept\n",
    "\n",
    "The `simple_save` function yields a quick way to persist your session. \"Deployment\" then means using the handy `predictor` to load the session from disk and return a \"predictor\" function. As stated previously, we only care about `W` and `Y` for actual use."
   ]
  },
  {
   "cell_type": "code",
   "execution_count": 8,
   "metadata": {},
   "outputs": [],
   "source": [
    "tf.saved_model.simple_save(sess, save_path, inputs={'X': X}, outputs={'Y': Y})\n",
    "mnist_predictor = predictor.from_saved_model(save_path)"
   ]
  },
  {
   "cell_type": "markdown",
   "metadata": {},
   "source": [
    "Pick one of the test images and try to predict it's label. Note some minor artifacts from training remains, such as `Y` and `W` being a vector of vectors due to the batching approach."
   ]
  },
  {
   "cell_type": "code",
   "execution_count": 9,
   "metadata": {
    "scrolled": false
   },
   "outputs": [
    {
     "data": {
      "image/png": "[encoded data removed]",
      "text/plain": [
       "<matplotlib.figure.Figure at 0x2718d485390>"
      ]
     },
     "metadata": {},
     "output_type": "display_data"
    },
    {
     "name": "stdout",
     "output_type": "stream",
     "text": [
      "Guess  => 2\n",
      "Actual => 2\n",
      "Confidence 1.0, test img nr 8793\n"
     ]
    }
   ],
   "source": [
    "# a couple of tricky images that might misclassify:\n",
    "# 613, 1107, 4177, 4724, 4837, 7637, 8325, 8639, 9010\n",
    "img_idx = randint(0, len(mnist.test.labels))\n",
    "lbl1 = mnist.test.labels[img_idx,:]\n",
    "img1 = np.array([mnist.test.images[img_idx,:]])\n",
    "\n",
    "predictions = mnist_predictor({'X': img1})\n",
    "Y_val = predictions['Y'][0]\n",
    "lbl_val = np.argmax(lbl1)\n",
    "lbl_gss = np.argmax(Y_val)\n",
    "\n",
    "fig, ax = plt.subplots(1, 2, sharex=False, sharey=False, figsize=PLOT_SIZE)\n",
    "ax[0].imshow(img1.reshape(28, 28), cmap='gray_r')\n",
    "ax[1].plot(Y_val, linestyle='--', marker='o', color='b')\n",
    "ax[1].set_ylim(0, 1)\n",
    "ax[1].set_xticks(range(0, 10))\n",
    "plt.show()\n",
    "\n",
    "print('Guess  => {}'.format(lbl_gss))\n",
    "print('Actual => {}'.format(lbl_val))\n",
    "print('Confidence {}, test img nr {}'.format(Y_val[lbl_gss], img_idx))"
   ]
  }
 ],
 "metadata": {
  "celltoolbar": "Raw Cell Format",
  "kernelspec": {
   "display_name": "Python 3",
   "language": "python",
   "name": "python3"
  },
  "language_info": {
   "codemirror_mode": {
    "name": "ipython",
    "version": 3
   },
   "file_extension": ".py",
   "mimetype": "text/x-python",
   "name": "python",
   "nbconvert_exporter": "python",
   "pygments_lexer": "ipython3",
   "version": "3.6.4"
  }
 },
 "nbformat": 4,
 "nbformat_minor": 2
}
