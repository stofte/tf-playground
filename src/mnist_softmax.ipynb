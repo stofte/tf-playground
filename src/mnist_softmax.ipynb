{
 "cells": [
  {
   "cell_type": "markdown",
   "metadata": {},
   "source": [
    "# MNIST softmax regression\n",
    "\n",
    "This notebook shows the basic steps in developing an equivalent \"hello world\" for machinelearning. The purpose here is to develop a model that will recognize handwritten digits (ie, 0 through 9). It's based on the regular Tensorflow tutorial [\"MNIST For ML Beginners\"](https://www.tensorflow.org/get_started/mnist/beginners)."
   ]
  },
  {
   "cell_type": "code",
   "execution_count": 1,
   "metadata": {},
   "outputs": [],
   "source": [
    "import os\n",
    "import math\n",
    "import numpy as np\n",
    "import tensorflow as tf\n",
    "import matplotlib.pyplot as plt\n",
    "from mnist_helper import read_data_sets\n",
    "\n",
    "# render plots inline\n",
    "%matplotlib inline\n",
    "np.set_printoptions(threshold=np.nan) # dont ellide matrices\n",
    "mnist_path = 'C:/src/tf-playground/mnist'"
   ]
  },
  {
   "cell_type": "markdown",
   "metadata": {},
   "source": [
    "Read data using mnist helper from tensorflow convinient tutorial namespace. "
   ]
  },
  {
   "cell_type": "code",
   "execution_count": 2,
   "metadata": {},
   "outputs": [
    {
     "name": "stdout",
     "output_type": "stream",
     "text": [
      "Extracting C:/src/tf-playground/mnist\\train-images-idx3-ubyte.gz\n",
      "Extracting C:/src/tf-playground/mnist\\train-labels-idx1-ubyte.gz\n",
      "Extracting C:/src/tf-playground/mnist\\t10k-images-idx3-ubyte.gz\n",
      "Extracting C:/src/tf-playground/mnist\\t10k-labels-idx1-ubyte.gz\n"
     ]
    }
   ],
   "source": [
    "mnist = read_data_sets(mnist_path, one_hot=True)"
   ]
  },
  {
   "cell_type": "markdown",
   "metadata": {},
   "source": [
    "Defines the placeholders and variables required\n",
    "\n",
    "- `X` is a placeholder for the actual image data. By using `None` as the height dimension, Tensorflow is told that the height may variable (so `X` can be sized to include any number of images, in a batching style). Note that each row is a complete image, simply flattened out (27 * 27 = 784)\n",
    "- `W` and `b` defines the weights and biases used by the model itself\n",
    "- `Y` and `Y_` refers to our guesses and labels (correct guess value) respectively"
   ]
  },
  {
   "cell_type": "code",
   "execution_count": 3,
   "metadata": {},
   "outputs": [],
   "source": [
    "X = tf.placeholder(tf.float32, [None, 784], 'X')\n",
    "W = tf.Variable(tf.zeros([784, 10]), 'W')\n",
    "b = tf.Variable(tf.zeros([10]), 'b')\n",
    "Y = tf.nn.softmax(tf.matmul(X, W) + b)\n",
    "Y_ = tf.placeholder(tf.float32, [None, 10], 'Y_')"
   ]
  },
  {
   "cell_type": "markdown",
   "metadata": {},
   "source": [
    "- `cross_entropy` is a tensor that gives a measurement of how well we guessed correctly\n",
    "- `train_step` is a operation that Tensorflow defines which seeks to mimize the `cross_entropy` tensor"
   ]
  },
  {
   "cell_type": "code",
   "execution_count": 4,
   "metadata": {
    "scrolled": false
   },
   "outputs": [],
   "source": [
    "cross_entropy = tf.reduce_mean(tf.nn.softmax_cross_entropy_with_logits_v2(labels=Y_, logits=Y))\n",
    "train_step = tf.train.GradientDescentOptimizer(0.5).minimize(cross_entropy)\n",
    "sess = tf.InteractiveSession()\n",
    "init = tf.global_variables_initializer().run()"
   ]
  },
  {
   "cell_type": "markdown",
   "metadata": {},
   "source": [
    "Training loop"
   ]
  },
  {
   "cell_type": "code",
   "execution_count": 5,
   "metadata": {
    "scrolled": true
   },
   "outputs": [
    {
     "name": "stdout",
     "output_type": "stream",
     "text": [
      "2.3025851249694824\n",
      "1.8040127754211426\n",
      "1.77245032787323\n",
      "1.6956342458724976\n",
      "1.7770555019378662\n",
      "1.679309368133545\n",
      "1.694687008857727\n",
      "1.6705082654953003\n",
      "1.609069585800171\n",
      "1.6027793884277344\n",
      "1.5984817743301392\n",
      "1.6158149242401123\n",
      "1.608744502067566\n",
      "1.6090776920318604\n",
      "1.611907720565796\n",
      "1.610431432723999\n",
      "1.6299207210540771\n",
      "1.5822646617889404\n",
      "1.6167562007904053\n",
      "1.5783582925796509\n"
     ]
    }
   ],
   "source": [
    "for _ in range(1000):\n",
    "    batch_xs, batch_ys = mnist.train.next_batch(100)\n",
    "    step_v, cross_entropy_v = sess.run([train_step, cross_entropy], feed_dict={X: batch_xs, Y_: batch_ys})\n",
    "    if (_ % 50 == 0):\n",
    "        print('{0}'.format(cross_entropy_v))"
   ]
  },
  {
   "cell_type": "markdown",
   "metadata": {},
   "source": [
    "Now the model has been trained, and we verify the accuracy of the resultant weights and biases against the test set."
   ]
  },
  {
   "cell_type": "code",
   "execution_count": 6,
   "metadata": {
    "scrolled": true
   },
   "outputs": [
    {
     "data": {
      "text/plain": [
       "0.90620005"
      ]
     },
     "execution_count": 6,
     "metadata": {},
     "output_type": "execute_result"
    }
   ],
   "source": [
    "correct_prediction = tf.equal(tf.argmax(Y, 1), tf.argmax(Y_, 1))\n",
    "accuracy = tf.reduce_mean(tf.cast(correct_prediction, tf.float32))\n",
    "sess.run(accuracy, feed_dict={X: mnist.test.images, Y_: mnist.test.labels})"
   ]
  },
  {
   "cell_type": "markdown",
   "metadata": {},
   "source": [
    "Evaluate the tensorflow variable to obtain a numpy matrix of actual weights for each class. To visualize the individual class weights, we first split `We` by columns, and then reshape into 28 x 28 individual numpy matrices."
   ]
  },
  {
   "cell_type": "code",
   "execution_count": 7,
   "metadata": {
    "scrolled": false
   },
   "outputs": [
    {
     "data": {
      "image/png": "[encoded data removed]",
      "text/plain": [
       "<matplotlib.figure.Figure at 0x1ac281fe128>"
      ]
     },
     "metadata": {},
     "output_type": "display_data"
    }
   ],
   "source": [
    "# prep data\n",
    "We = W.eval()\n",
    "Wec = [(np.reshape(x, (28, 28))) for x in np.hsplit(We, 10)]\n",
    "titles = ['Class: {}'.format(n) for n in range(10)]\n",
    "vmin = min([m.min() for m in Wec])\n",
    "vmax = max([m.max() for m in Wec])\n",
    "# ensure the mean is 0, otherwise the base/neutral is non-white\n",
    "vminmax = max(abs(vmin), vmax)\n",
    "\n",
    "# create subplots\n",
    "fig, ax = plt.subplots(2, 5, sharex=True, sharey=True, figsize=(16.9, 5.915))\n",
    "for index, (image, title) in enumerate(zip(Wec, titles)):\n",
    "    (row, col) = (math.floor(index / 5), index % 5)\n",
    "    im = ax[row, col].pcolor(image, cmap='bwr', vmin=-vminmax, vmax=vminmax)\n",
    "    ax[row, col].set(aspect=1)\n",
    "    \n",
    "# adjust for colorbar\n",
    "fig.subplots_adjust(right=0.82)\n",
    "cbar_ax = fig.add_axes([0.85, 0.148, 0.01, 0.71])\n",
    "fig.colorbar(im, cax=cbar_ax, cmap='bwr')\n",
    "\n",
    "plt.show()"
   ]
  }
 ],
 "metadata": {
  "celltoolbar": "Raw Cell Format",
  "kernelspec": {
   "display_name": "Python 3",
   "language": "python",
   "name": "python3"
  },
  "language_info": {
   "codemirror_mode": {
    "name": "ipython",
    "version": 3
   },
   "file_extension": ".py",
   "mimetype": "text/x-python",
   "name": "python",
   "nbconvert_exporter": "python",
   "pygments_lexer": "ipython3",
   "version": "3.6.4"
  }
 },
 "nbformat": 4,
 "nbformat_minor": 2
}
