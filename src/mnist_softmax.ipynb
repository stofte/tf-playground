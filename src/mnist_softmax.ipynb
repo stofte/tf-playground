{
 "cells": [
  {
   "cell_type": "markdown",
   "metadata": {},
   "source": [
    "# MNIST SoftMax Regression"
   ]
  },
  {
   "cell_type": "code",
   "execution_count": 1,
   "metadata": {},
   "outputs": [],
   "source": [
    "%matplotlib inline # causes matplotline plots to be inserted inline in the notebook\n",
    "import os\n",
    "import numpy as np\n",
    "import tensorflow as tf\n",
    "from IPython.display import Image, display\n",
    "from plotting import show, show_images\n",
    "from tensorflow.examples.tutorials.mnist import input_data"
   ]
  },
  {
   "cell_type": "markdown",
   "metadata": {},
   "source": [
    "Defines the path where the MNIST dataset can be found."
   ]
  },
  {
   "cell_type": "code",
   "execution_count": 2,
   "metadata": {},
   "outputs": [
    {
     "name": "stdout",
     "output_type": "stream",
     "text": [
      "Extracting /mnt/c/src/tf-playground/mnist/train-images-idx3-ubyte.gz\n",
      "Extracting /mnt/c/src/tf-playground/mnist/train-labels-idx1-ubyte.gz\n",
      "Extracting /mnt/c/src/tf-playground/mnist/t10k-images-idx3-ubyte.gz\n",
      "Extracting /mnt/c/src/tf-playground/mnist/t10k-labels-idx1-ubyte.gz\n"
     ]
    }
   ],
   "source": [
    "mnist_path = '/mnt/c/src/tf-playground/mnist'\n",
    "# read data\n",
    "mnist = input_data.read_data_sets(mnist_path, one_hot=True)"
   ]
  },
  {
   "cell_type": "markdown",
   "metadata": {},
   "source": [
    "Supress TensorFlow hardware warnings (SSE4 support, etc)"
   ]
  },
  {
   "cell_type": "code",
   "execution_count": 3,
   "metadata": {},
   "outputs": [],
   "source": [
    "os.environ['TF_CPP_MIN_LOG_LEVEL'] = '3'"
   ]
  },
  {
   "cell_type": "markdown",
   "metadata": {},
   "source": [
    "Defines the placeholders and variables required\n",
    "\n",
    "- `X` is a placeholder for the actual image data. By using `None` as the height dimension, Tensorflow is told that the height may variable (so `X` can be sized to include any number of images, in a batching style). Note that each row is a complete image, simply flattened out (27 * 27 = 784)\n",
    "- `W` and `b` defines the weights and biases used by the model itself\n",
    "- `Y` and `Y_` refers to our guesses and labels (correct guess value) respectively"
   ]
  },
  {
   "cell_type": "code",
   "execution_count": 4,
   "metadata": {},
   "outputs": [],
   "source": [
    "X = tf.placeholder(tf.float32, [None, 784], 'X')\n",
    "W = tf.Variable(tf.zeros([784, 10]), 'W')\n",
    "b = tf.Variable(tf.zeros([10]), 'b')\n",
    "Y = tf.nn.softmax(tf.matmul(X, W) + b)\n",
    "Y_ = tf.placeholder(tf.float32, [None, 10], 'Y_')"
   ]
  },
  {
   "cell_type": "markdown",
   "metadata": {},
   "source": [
    "- `cross_entropy` is a tensor that gives a measurement of how well we guessed correctly\n",
    "- `train_step` is a operation that Tensorflow defines which seeks to mimize the `cross_entropy` tensor"
   ]
  },
  {
   "cell_type": "code",
   "execution_count": 5,
   "metadata": {
    "scrolled": false
   },
   "outputs": [],
   "source": [
    "cross_entropy = tf.reduce_mean(tf.nn.softmax_cross_entropy_with_logits(labels=Y_, logits=Y))\n",
    "train_step = tf.train.GradientDescentOptimizer(0.5).minimize(cross_entropy)\n",
    "sess = tf.InteractiveSession()\n",
    "init = tf.global_variables_initializer().run()\n"
   ]
  },
  {
   "cell_type": "code",
   "execution_count": 6,
   "metadata": {},
   "outputs": [
    {
     "name": "stdout",
     "output_type": "stream",
     "text": [
      "2.30258536339\n",
      "1.84912872314\n",
      "1.75728487968\n",
      "1.80085027218\n",
      "1.71871340275\n",
      "1.6475301981\n",
      "1.61825168133\n",
      "1.67041194439\n",
      "1.62754058838\n",
      "1.63860082626\n",
      "1.63300013542\n",
      "1.62136781216\n",
      "1.64430391788\n",
      "1.65121793747\n",
      "1.57119464874\n",
      "1.58150422573\n",
      "1.59792602062\n",
      "1.56298553944\n",
      "1.61131489277\n",
      "1.61670851707\n"
     ]
    }
   ],
   "source": [
    "for _ in range(1000):\n",
    "    batch_xs, batch_ys = mnist.train.next_batch(100)\n",
    "    step_v, cross_entropy_v = sess.run([train_step, cross_entropy], feed_dict={X: batch_xs, Y_: batch_ys})\n",
    "    if (_ % 50 == 0):\n",
    "        print('{0}'.format(cross_entropy_v))"
   ]
  },
  {
   "cell_type": "markdown",
   "metadata": {},
   "source": [
    "Now the model has been trained, and we verify the accuracy of the resultant weights and biases."
   ]
  },
  {
   "cell_type": "code",
   "execution_count": 7,
   "metadata": {},
   "outputs": [
    {
     "data": {
      "text/plain": [
       "0.90640002"
      ]
     },
     "execution_count": 7,
     "metadata": {},
     "output_type": "execute_result"
    }
   ],
   "source": [
    "# check accuracy against test set\n",
    "correct_prediction = tf.equal(tf.argmax(Y, 1), tf.argmax(Y_, 1))\n",
    "accuracy = tf.reduce_mean(tf.cast(correct_prediction, tf.float32))\n",
    "sess.run(accuracy, feed_dict={X: mnist.test.images, Y_: mnist.test.labels})"
   ]
  },
  {
   "cell_type": "code",
   "execution_count": 8,
   "metadata": {},
   "outputs": [
    {
     "data": {
      "image/png": "[encoded data removed]",
      "text/plain": [
       "<matplotlib.figure.Figure at 0x7f4e1912a390>"
      ]
     },
     "metadata": {},
     "output_type": "display_data"
    }
   ],
   "source": [
    "# gets actual weights\n",
    "We = W.eval()\n",
    "# split by columns, then reshape columns to 28x28\n",
    "Wec = [np.reshape(x, (28, 28)) for x in np.hsplit(We, 10)]\n",
    "show_images(Wec, 2, ['Class: {}'.format(n) for n in range(10)])"
   ]
  },
  {
   "cell_type": "code",
   "execution_count": null,
   "metadata": {},
   "outputs": [],
   "source": []
  }
 ],
 "metadata": {
  "kernelspec": {
   "display_name": "Python 2",
   "language": "python",
   "name": "python2"
  },
  "language_info": {
   "codemirror_mode": {
    "name": "ipython",
    "version": 2
   },
   "file_extension": ".py",
   "mimetype": "text/x-python",
   "name": "python",
   "nbconvert_exporter": "python",
   "pygments_lexer": "ipython2",
   "version": "2.7.12"
  }
 },
 "nbformat": 4,
 "nbformat_minor": 2
}
